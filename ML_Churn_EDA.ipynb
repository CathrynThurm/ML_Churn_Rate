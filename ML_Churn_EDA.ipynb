{
 "cells": [
  {
   "cell_type": "code",
   "execution_count": 158,
   "metadata": {},
   "outputs": [],
   "source": [
    "import matplotlib.pyplot as plt\n",
    "import seaborn as sns\n",
    "import pandas as pd\n",
    "import random\n",
    "import numpy as np\n",
    "%matplotlib inline"
   ]
  },
  {
   "cell_type": "code",
   "execution_count": 159,
   "metadata": {},
   "outputs": [],
   "source": [
    "dataset = pd.read_csv('new_churn_data.csv')"
   ]
  },
  {
   "cell_type": "code",
   "execution_count": 160,
   "metadata": {},
   "outputs": [],
   "source": [
    "user_id= dataset.user"
   ]
  },
  {
   "cell_type": "code",
   "execution_count": 161,
   "metadata": {},
   "outputs": [],
   "source": [
    "dataset = dataset.drop(columns=['user'])"
   ]
  },
  {
   "cell_type": "code",
   "execution_count": 162,
   "metadata": {},
   "outputs": [
    {
     "data": {
      "text/plain": [
       "na    13856\n",
       "R     10969\n",
       "O      2171\n",
       "Name: housing, dtype: int64"
      ]
     },
     "execution_count": 162,
     "metadata": {},
     "output_type": "execute_result"
    }
   ],
   "source": [
    "#one-hot encoding\n",
    "dataset.housing.value_counts()"
   ]
  },
  {
   "cell_type": "code",
   "execution_count": 163,
   "metadata": {},
   "outputs": [],
   "source": [
    "dataset = pd.get_dummies(dataset)"
   ]
  },
  {
   "cell_type": "code",
   "execution_count": 164,
   "metadata": {},
   "outputs": [
    {
     "data": {
      "text/plain": [
       "Index(['Unnamed: 0', 'churn', 'age', 'deposits', 'withdrawal',\n",
       "       'purchases_partners', 'purchases', 'cc_taken', 'cc_recommended',\n",
       "       'cc_disliked', 'cc_liked', 'cc_application_begin', 'app_downloaded',\n",
       "       'web_user', 'ios_user', 'android_user', 'registered_phones',\n",
       "       'waiting_4_loan', 'cancelled_loan', 'received_loan', 'rejected_loan',\n",
       "       'left_for_two_month_plus', 'left_for_one_month', 'reward_rate',\n",
       "       'is_referred', 'housing_O', 'housing_R', 'housing_na',\n",
       "       'payment_type_Bi-Weekly', 'payment_type_Monthly',\n",
       "       'payment_type_Semi-Monthly', 'payment_type_Weekly', 'payment_type_na',\n",
       "       'zodiac_sign_Aquarius', 'zodiac_sign_Aries', 'zodiac_sign_Cancer',\n",
       "       'zodiac_sign_Capricorn', 'zodiac_sign_Gemini', 'zodiac_sign_Leo',\n",
       "       'zodiac_sign_Libra', 'zodiac_sign_Pisces', 'zodiac_sign_Sagittarius',\n",
       "       'zodiac_sign_Scorpio', 'zodiac_sign_Taurus', 'zodiac_sign_Virgo',\n",
       "       'zodiac_sign_na'],\n",
       "      dtype='object')"
      ]
     },
     "execution_count": 164,
     "metadata": {},
     "output_type": "execute_result"
    }
   ],
   "source": [
    "dataset.columns"
   ]
  },
  {
   "cell_type": "code",
   "execution_count": 165,
   "metadata": {},
   "outputs": [],
   "source": [
    "# dropping columns to get rid of forced correlated variables\n",
    "dataset = dataset.drop(columns=['housing_na', 'zodiac_sign_na', 'payment_type_na'])"
   ]
  },
  {
   "cell_type": "code",
   "execution_count": 166,
   "metadata": {},
   "outputs": [],
   "source": [
    "#splitting the data into Training and Testing\n",
    "from sklearn.model_selection import train_test_split\n",
    "X_train, X_test, y_train, y_test = train_test_split(dataset.drop(columns=['churn']), dataset.churn, test_size=0.2, random_state = 0)"
   ]
  },
  {
   "cell_type": "code",
   "execution_count": 167,
   "metadata": {},
   "outputs": [
    {
     "data": {
      "text/plain": [
       "0    12656\n",
       "1     8940\n",
       "Name: churn, dtype: int64"
      ]
     },
     "execution_count": 167,
     "metadata": {},
     "output_type": "execute_result"
    }
   ],
   "source": [
    "y_train.value_counts()"
   ]
  },
  {
   "cell_type": "code",
   "execution_count": 168,
   "metadata": {},
   "outputs": [],
   "source": [
    "#makes binary 0 and 1 50/50\n",
    "pos_index = y_train[y_train.values==1].index\n",
    "neg_index = y_train[y_train.values==0].index"
   ]
  },
  {
   "cell_type": "code",
   "execution_count": 169,
   "metadata": {},
   "outputs": [],
   "source": [
    "if len(pos_index)>len(neg_index):\n",
    "    higher = pos_index\n",
    "    lower = neg_index\n",
    "else:\n",
    "    higher = neg_index\n",
    "    lower = pos_index"
   ]
  },
  {
   "cell_type": "code",
   "execution_count": 170,
   "metadata": {},
   "outputs": [],
   "source": [
    "random.seed(0)"
   ]
  },
  {
   "cell_type": "code",
   "execution_count": 171,
   "metadata": {},
   "outputs": [],
   "source": [
    "higher = np.random.choice(higher, size = len(lower))"
   ]
  },
  {
   "cell_type": "code",
   "execution_count": 172,
   "metadata": {},
   "outputs": [],
   "source": [
    "lower = np.asarray(lower)"
   ]
  },
  {
   "cell_type": "code",
   "execution_count": 173,
   "metadata": {},
   "outputs": [],
   "source": [
    "new_index = np.concatenate((lower, higher))"
   ]
  },
  {
   "cell_type": "code",
   "execution_count": 174,
   "metadata": {},
   "outputs": [],
   "source": [
    "X_train = X_train.loc[new_index, ]\n",
    "y_train = y_train[new_index]"
   ]
  },
  {
   "cell_type": "code",
   "execution_count": 175,
   "metadata": {},
   "outputs": [],
   "source": [
    "#feature scaling\n",
    "from sklearn.preprocessing import StandardScaler\n",
    "scaler = StandardScaler()\n",
    "X_train2 = pd.DataFrame(scaler.fit_transform(X_train))\n",
    "X_test2 = pd.DataFrame(scaler.fit_transform(X_test))"
   ]
  },
  {
   "cell_type": "code",
   "execution_count": 176,
   "metadata": {},
   "outputs": [],
   "source": [
    "X_train2.columns = X_train.columns.values\n",
    "X_test2.columns = X_test.columns.values\n",
    "X_train2.index = X_train.index.values\n",
    "X_test2.index = X_test.index.values\n",
    "X_train = X_train2\n",
    "X_test = X_test2"
   ]
  },
  {
   "cell_type": "code",
   "execution_count": 177,
   "metadata": {},
   "outputs": [
    {
     "data": {
      "text/html": [
       "<div>\n",
       "<style scoped>\n",
       "    .dataframe tbody tr th:only-of-type {\n",
       "        vertical-align: middle;\n",
       "    }\n",
       "\n",
       "    .dataframe tbody tr th {\n",
       "        vertical-align: top;\n",
       "    }\n",
       "\n",
       "    .dataframe thead th {\n",
       "        text-align: right;\n",
       "    }\n",
       "</style>\n",
       "<table border=\"1\" class=\"dataframe\">\n",
       "  <thead>\n",
       "    <tr style=\"text-align: right;\">\n",
       "      <th></th>\n",
       "      <th>Unnamed: 0</th>\n",
       "      <th>age</th>\n",
       "      <th>deposits</th>\n",
       "      <th>withdrawal</th>\n",
       "      <th>purchases_partners</th>\n",
       "      <th>purchases</th>\n",
       "      <th>cc_taken</th>\n",
       "      <th>cc_recommended</th>\n",
       "      <th>cc_disliked</th>\n",
       "      <th>cc_liked</th>\n",
       "      <th>...</th>\n",
       "      <th>zodiac_sign_Cancer</th>\n",
       "      <th>zodiac_sign_Capricorn</th>\n",
       "      <th>zodiac_sign_Gemini</th>\n",
       "      <th>zodiac_sign_Leo</th>\n",
       "      <th>zodiac_sign_Libra</th>\n",
       "      <th>zodiac_sign_Pisces</th>\n",
       "      <th>zodiac_sign_Sagittarius</th>\n",
       "      <th>zodiac_sign_Scorpio</th>\n",
       "      <th>zodiac_sign_Taurus</th>\n",
       "      <th>zodiac_sign_Virgo</th>\n",
       "    </tr>\n",
       "  </thead>\n",
       "  <tbody>\n",
       "    <tr>\n",
       "      <th>11695</th>\n",
       "      <td>-0.229772</td>\n",
       "      <td>-0.615730</td>\n",
       "      <td>-0.356521</td>\n",
       "      <td>-0.287061</td>\n",
       "      <td>-0.594218</td>\n",
       "      <td>-0.356408</td>\n",
       "      <td>-0.166987</td>\n",
       "      <td>-0.909984</td>\n",
       "      <td>-0.053607</td>\n",
       "      <td>-0.071728</td>\n",
       "      <td>...</td>\n",
       "      <td>-0.313604</td>\n",
       "      <td>-0.162863</td>\n",
       "      <td>-0.295399</td>\n",
       "      <td>-0.310258</td>\n",
       "      <td>-0.291803</td>\n",
       "      <td>-0.294166</td>\n",
       "      <td>-0.283253</td>\n",
       "      <td>-0.300517</td>\n",
       "      <td>-0.295063</td>\n",
       "      <td>-0.312958</td>\n",
       "    </tr>\n",
       "    <tr>\n",
       "      <th>19766</th>\n",
       "      <td>0.807681</td>\n",
       "      <td>-0.414345</td>\n",
       "      <td>-0.356521</td>\n",
       "      <td>-0.287061</td>\n",
       "      <td>-0.643420</td>\n",
       "      <td>-0.356408</td>\n",
       "      <td>-0.166987</td>\n",
       "      <td>0.322224</td>\n",
       "      <td>0.833883</td>\n",
       "      <td>-0.071728</td>\n",
       "      <td>...</td>\n",
       "      <td>-0.313604</td>\n",
       "      <td>-0.162863</td>\n",
       "      <td>-0.295399</td>\n",
       "      <td>-0.310258</td>\n",
       "      <td>3.426969</td>\n",
       "      <td>-0.294166</td>\n",
       "      <td>-0.283253</td>\n",
       "      <td>-0.300517</td>\n",
       "      <td>-0.295063</td>\n",
       "      <td>-0.312958</td>\n",
       "    </tr>\n",
       "    <tr>\n",
       "      <th>8354</th>\n",
       "      <td>-0.659120</td>\n",
       "      <td>0.290506</td>\n",
       "      <td>-0.356521</td>\n",
       "      <td>-0.287061</td>\n",
       "      <td>-0.643420</td>\n",
       "      <td>-0.356408</td>\n",
       "      <td>-0.166987</td>\n",
       "      <td>2.010807</td>\n",
       "      <td>-0.053607</td>\n",
       "      <td>-0.071728</td>\n",
       "      <td>...</td>\n",
       "      <td>-0.313604</td>\n",
       "      <td>-0.162863</td>\n",
       "      <td>-0.295399</td>\n",
       "      <td>-0.310258</td>\n",
       "      <td>-0.291803</td>\n",
       "      <td>-0.294166</td>\n",
       "      <td>-0.283253</td>\n",
       "      <td>-0.300517</td>\n",
       "      <td>-0.295063</td>\n",
       "      <td>3.195314</td>\n",
       "    </tr>\n",
       "    <tr>\n",
       "      <th>17883</th>\n",
       "      <td>0.565699</td>\n",
       "      <td>0.592585</td>\n",
       "      <td>-0.356521</td>\n",
       "      <td>-0.287061</td>\n",
       "      <td>0.045409</td>\n",
       "      <td>-0.356408</td>\n",
       "      <td>-0.166987</td>\n",
       "      <td>-0.179786</td>\n",
       "      <td>-0.053607</td>\n",
       "      <td>-0.071728</td>\n",
       "      <td>...</td>\n",
       "      <td>-0.313604</td>\n",
       "      <td>-0.162863</td>\n",
       "      <td>-0.295399</td>\n",
       "      <td>-0.310258</td>\n",
       "      <td>-0.291803</td>\n",
       "      <td>-0.294166</td>\n",
       "      <td>-0.283253</td>\n",
       "      <td>-0.300517</td>\n",
       "      <td>3.389105</td>\n",
       "      <td>-0.312958</td>\n",
       "    </tr>\n",
       "    <tr>\n",
       "      <th>25149</th>\n",
       "      <td>1.499445</td>\n",
       "      <td>-0.817116</td>\n",
       "      <td>-0.241880</td>\n",
       "      <td>-0.287061</td>\n",
       "      <td>-0.102198</td>\n",
       "      <td>-0.239485</td>\n",
       "      <td>-0.166987</td>\n",
       "      <td>-0.579113</td>\n",
       "      <td>-0.053607</td>\n",
       "      <td>-0.071728</td>\n",
       "      <td>...</td>\n",
       "      <td>-0.313604</td>\n",
       "      <td>-0.162863</td>\n",
       "      <td>-0.295399</td>\n",
       "      <td>-0.310258</td>\n",
       "      <td>-0.291803</td>\n",
       "      <td>3.399438</td>\n",
       "      <td>-0.283253</td>\n",
       "      <td>-0.300517</td>\n",
       "      <td>-0.295063</td>\n",
       "      <td>-0.312958</td>\n",
       "    </tr>\n",
       "    <tr>\n",
       "      <th>...</th>\n",
       "      <td>...</td>\n",
       "      <td>...</td>\n",
       "      <td>...</td>\n",
       "      <td>...</td>\n",
       "      <td>...</td>\n",
       "      <td>...</td>\n",
       "      <td>...</td>\n",
       "      <td>...</td>\n",
       "      <td>...</td>\n",
       "      <td>...</td>\n",
       "      <td>...</td>\n",
       "      <td>...</td>\n",
       "      <td>...</td>\n",
       "      <td>...</td>\n",
       "      <td>...</td>\n",
       "      <td>...</td>\n",
       "      <td>...</td>\n",
       "      <td>...</td>\n",
       "      <td>...</td>\n",
       "      <td>...</td>\n",
       "      <td>...</td>\n",
       "    </tr>\n",
       "    <tr>\n",
       "      <th>24256</th>\n",
       "      <td>1.384687</td>\n",
       "      <td>-0.716423</td>\n",
       "      <td>-0.012599</td>\n",
       "      <td>-0.287061</td>\n",
       "      <td>-0.495814</td>\n",
       "      <td>-0.005637</td>\n",
       "      <td>-0.166987</td>\n",
       "      <td>-0.898575</td>\n",
       "      <td>-0.053607</td>\n",
       "      <td>-0.071728</td>\n",
       "      <td>...</td>\n",
       "      <td>-0.313604</td>\n",
       "      <td>-0.162863</td>\n",
       "      <td>-0.295399</td>\n",
       "      <td>-0.310258</td>\n",
       "      <td>-0.291803</td>\n",
       "      <td>-0.294166</td>\n",
       "      <td>3.530419</td>\n",
       "      <td>-0.300517</td>\n",
       "      <td>-0.295063</td>\n",
       "      <td>-0.312958</td>\n",
       "    </tr>\n",
       "    <tr>\n",
       "      <th>18107</th>\n",
       "      <td>0.594485</td>\n",
       "      <td>0.693277</td>\n",
       "      <td>-0.356521</td>\n",
       "      <td>-0.287061</td>\n",
       "      <td>-0.643420</td>\n",
       "      <td>-0.356408</td>\n",
       "      <td>-0.166987</td>\n",
       "      <td>1.109469</td>\n",
       "      <td>-0.053607</td>\n",
       "      <td>-0.071728</td>\n",
       "      <td>...</td>\n",
       "      <td>-0.313604</td>\n",
       "      <td>-0.162863</td>\n",
       "      <td>-0.295399</td>\n",
       "      <td>3.223125</td>\n",
       "      <td>-0.291803</td>\n",
       "      <td>-0.294166</td>\n",
       "      <td>-0.283253</td>\n",
       "      <td>-0.300517</td>\n",
       "      <td>-0.295063</td>\n",
       "      <td>-0.312958</td>\n",
       "    </tr>\n",
       "    <tr>\n",
       "      <th>26940</th>\n",
       "      <td>1.729605</td>\n",
       "      <td>-1.219888</td>\n",
       "      <td>0.102042</td>\n",
       "      <td>-0.287061</td>\n",
       "      <td>0.119212</td>\n",
       "      <td>0.111287</td>\n",
       "      <td>-0.166987</td>\n",
       "      <td>-0.156968</td>\n",
       "      <td>-0.053607</td>\n",
       "      <td>-0.071728</td>\n",
       "      <td>...</td>\n",
       "      <td>3.188733</td>\n",
       "      <td>-0.162863</td>\n",
       "      <td>-0.295399</td>\n",
       "      <td>-0.310258</td>\n",
       "      <td>-0.291803</td>\n",
       "      <td>-0.294166</td>\n",
       "      <td>-0.283253</td>\n",
       "      <td>-0.300517</td>\n",
       "      <td>-0.295063</td>\n",
       "      <td>-0.312958</td>\n",
       "    </tr>\n",
       "    <tr>\n",
       "      <th>2287</th>\n",
       "      <td>-1.438913</td>\n",
       "      <td>-0.515037</td>\n",
       "      <td>-0.356521</td>\n",
       "      <td>-0.287061</td>\n",
       "      <td>-0.643420</td>\n",
       "      <td>-0.356408</td>\n",
       "      <td>-0.166987</td>\n",
       "      <td>-1.012668</td>\n",
       "      <td>-0.053607</td>\n",
       "      <td>-0.071728</td>\n",
       "      <td>...</td>\n",
       "      <td>-0.313604</td>\n",
       "      <td>-0.162863</td>\n",
       "      <td>-0.295399</td>\n",
       "      <td>-0.310258</td>\n",
       "      <td>-0.291803</td>\n",
       "      <td>-0.294166</td>\n",
       "      <td>-0.283253</td>\n",
       "      <td>-0.300517</td>\n",
       "      <td>-0.295063</td>\n",
       "      <td>3.195314</td>\n",
       "    </tr>\n",
       "    <tr>\n",
       "      <th>10954</th>\n",
       "      <td>-0.324997</td>\n",
       "      <td>-0.112266</td>\n",
       "      <td>-0.356521</td>\n",
       "      <td>-0.287061</td>\n",
       "      <td>-0.594218</td>\n",
       "      <td>-0.356408</td>\n",
       "      <td>-0.166987</td>\n",
       "      <td>-0.944212</td>\n",
       "      <td>-0.053607</td>\n",
       "      <td>-0.071728</td>\n",
       "      <td>...</td>\n",
       "      <td>-0.313604</td>\n",
       "      <td>-0.162863</td>\n",
       "      <td>-0.295399</td>\n",
       "      <td>-0.310258</td>\n",
       "      <td>-0.291803</td>\n",
       "      <td>-0.294166</td>\n",
       "      <td>-0.283253</td>\n",
       "      <td>-0.300517</td>\n",
       "      <td>-0.295063</td>\n",
       "      <td>-0.312958</td>\n",
       "    </tr>\n",
       "  </tbody>\n",
       "</table>\n",
       "<p>17880 rows × 42 columns</p>\n",
       "</div>"
      ],
      "text/plain": [
       "       Unnamed: 0       age  deposits  withdrawal  purchases_partners  \\\n",
       "11695   -0.229772 -0.615730 -0.356521   -0.287061           -0.594218   \n",
       "19766    0.807681 -0.414345 -0.356521   -0.287061           -0.643420   \n",
       "8354    -0.659120  0.290506 -0.356521   -0.287061           -0.643420   \n",
       "17883    0.565699  0.592585 -0.356521   -0.287061            0.045409   \n",
       "25149    1.499445 -0.817116 -0.241880   -0.287061           -0.102198   \n",
       "...           ...       ...       ...         ...                 ...   \n",
       "24256    1.384687 -0.716423 -0.012599   -0.287061           -0.495814   \n",
       "18107    0.594485  0.693277 -0.356521   -0.287061           -0.643420   \n",
       "26940    1.729605 -1.219888  0.102042   -0.287061            0.119212   \n",
       "2287    -1.438913 -0.515037 -0.356521   -0.287061           -0.643420   \n",
       "10954   -0.324997 -0.112266 -0.356521   -0.287061           -0.594218   \n",
       "\n",
       "       purchases  cc_taken  cc_recommended  cc_disliked  cc_liked  ...  \\\n",
       "11695  -0.356408 -0.166987       -0.909984    -0.053607 -0.071728  ...   \n",
       "19766  -0.356408 -0.166987        0.322224     0.833883 -0.071728  ...   \n",
       "8354   -0.356408 -0.166987        2.010807    -0.053607 -0.071728  ...   \n",
       "17883  -0.356408 -0.166987       -0.179786    -0.053607 -0.071728  ...   \n",
       "25149  -0.239485 -0.166987       -0.579113    -0.053607 -0.071728  ...   \n",
       "...          ...       ...             ...          ...       ...  ...   \n",
       "24256  -0.005637 -0.166987       -0.898575    -0.053607 -0.071728  ...   \n",
       "18107  -0.356408 -0.166987        1.109469    -0.053607 -0.071728  ...   \n",
       "26940   0.111287 -0.166987       -0.156968    -0.053607 -0.071728  ...   \n",
       "2287   -0.356408 -0.166987       -1.012668    -0.053607 -0.071728  ...   \n",
       "10954  -0.356408 -0.166987       -0.944212    -0.053607 -0.071728  ...   \n",
       "\n",
       "       zodiac_sign_Cancer  zodiac_sign_Capricorn  zodiac_sign_Gemini  \\\n",
       "11695           -0.313604              -0.162863           -0.295399   \n",
       "19766           -0.313604              -0.162863           -0.295399   \n",
       "8354            -0.313604              -0.162863           -0.295399   \n",
       "17883           -0.313604              -0.162863           -0.295399   \n",
       "25149           -0.313604              -0.162863           -0.295399   \n",
       "...                   ...                    ...                 ...   \n",
       "24256           -0.313604              -0.162863           -0.295399   \n",
       "18107           -0.313604              -0.162863           -0.295399   \n",
       "26940            3.188733              -0.162863           -0.295399   \n",
       "2287            -0.313604              -0.162863           -0.295399   \n",
       "10954           -0.313604              -0.162863           -0.295399   \n",
       "\n",
       "       zodiac_sign_Leo  zodiac_sign_Libra  zodiac_sign_Pisces  \\\n",
       "11695        -0.310258          -0.291803           -0.294166   \n",
       "19766        -0.310258           3.426969           -0.294166   \n",
       "8354         -0.310258          -0.291803           -0.294166   \n",
       "17883        -0.310258          -0.291803           -0.294166   \n",
       "25149        -0.310258          -0.291803            3.399438   \n",
       "...                ...                ...                 ...   \n",
       "24256        -0.310258          -0.291803           -0.294166   \n",
       "18107         3.223125          -0.291803           -0.294166   \n",
       "26940        -0.310258          -0.291803           -0.294166   \n",
       "2287         -0.310258          -0.291803           -0.294166   \n",
       "10954        -0.310258          -0.291803           -0.294166   \n",
       "\n",
       "       zodiac_sign_Sagittarius  zodiac_sign_Scorpio  zodiac_sign_Taurus  \\\n",
       "11695                -0.283253            -0.300517           -0.295063   \n",
       "19766                -0.283253            -0.300517           -0.295063   \n",
       "8354                 -0.283253            -0.300517           -0.295063   \n",
       "17883                -0.283253            -0.300517            3.389105   \n",
       "25149                -0.283253            -0.300517           -0.295063   \n",
       "...                        ...                  ...                 ...   \n",
       "24256                 3.530419            -0.300517           -0.295063   \n",
       "18107                -0.283253            -0.300517           -0.295063   \n",
       "26940                -0.283253            -0.300517           -0.295063   \n",
       "2287                 -0.283253            -0.300517           -0.295063   \n",
       "10954                -0.283253            -0.300517           -0.295063   \n",
       "\n",
       "       zodiac_sign_Virgo  \n",
       "11695          -0.312958  \n",
       "19766          -0.312958  \n",
       "8354            3.195314  \n",
       "17883          -0.312958  \n",
       "25149          -0.312958  \n",
       "...                  ...  \n",
       "24256          -0.312958  \n",
       "18107          -0.312958  \n",
       "26940          -0.312958  \n",
       "2287            3.195314  \n",
       "10954          -0.312958  \n",
       "\n",
       "[17880 rows x 42 columns]"
      ]
     },
     "execution_count": 177,
     "metadata": {},
     "output_type": "execute_result"
    }
   ],
   "source": [
    "X_train"
   ]
  },
  {
   "cell_type": "code",
   "execution_count": 201,
   "metadata": {},
   "outputs": [],
   "source": [
    "#fitting model to training section\n",
    "from sklearn.linear_model import LogisticRegression\n",
    "classifier = LogisticRegression(random_state = 0)"
   ]
  },
  {
   "cell_type": "code",
   "execution_count": 202,
   "metadata": {},
   "outputs": [
    {
     "data": {
      "text/plain": [
       "LogisticRegression(C=1.0, class_weight=None, dual=False, fit_intercept=True,\n",
       "                   intercept_scaling=1, l1_ratio=None, max_iter=100,\n",
       "                   multi_class='auto', n_jobs=None, penalty='l2',\n",
       "                   random_state=0, solver='lbfgs', tol=0.0001, verbose=0,\n",
       "                   warm_start=False)"
      ]
     },
     "execution_count": 202,
     "metadata": {},
     "output_type": "execute_result"
    }
   ],
   "source": [
    "classifier.fit(X_train, y_train)"
   ]
  },
  {
   "cell_type": "code",
   "execution_count": 203,
   "metadata": {},
   "outputs": [],
   "source": [
    "#predicting test sets\n",
    "y_predict = classifier.predict(X_test)"
   ]
  },
  {
   "cell_type": "code",
   "execution_count": 204,
   "metadata": {},
   "outputs": [],
   "source": [
    "#evaluating model\n",
    "from sklearn.metrics import confusion_matrix, accuracy_score, f1_score, precision_score, recall_score"
   ]
  },
  {
   "cell_type": "code",
   "execution_count": 205,
   "metadata": {
    "scrolled": true
   },
   "outputs": [],
   "source": [
    "cm = confusion_matrix(y_test, y_predict)"
   ]
  },
  {
   "cell_type": "code",
   "execution_count": 210,
   "metadata": {},
   "outputs": [
    {
     "data": {
      "text/plain": [
       "0.6064814814814815"
      ]
     },
     "execution_count": 210,
     "metadata": {},
     "output_type": "execute_result"
    }
   ],
   "source": [
    "accuracy_score(y_test, y_predict)"
   ]
  },
  {
   "cell_type": "code",
   "execution_count": 211,
   "metadata": {},
   "outputs": [
    {
     "data": {
      "text/plain": [
       "0.5167743921206525"
      ]
     },
     "execution_count": 211,
     "metadata": {},
     "output_type": "execute_result"
    }
   ],
   "source": [
    "precision_score(y_test, y_predict)"
   ]
  },
  {
   "cell_type": "code",
   "execution_count": 212,
   "metadata": {},
   "outputs": [
    {
     "data": {
      "text/plain": [
       "0.7515666965085049"
      ]
     },
     "execution_count": 212,
     "metadata": {},
     "output_type": "execute_result"
    }
   ],
   "source": [
    "recall_score(y_test, y_predict)"
   ]
  },
  {
   "cell_type": "code",
   "execution_count": 213,
   "metadata": {},
   "outputs": [
    {
     "data": {
      "text/plain": [
       "0.6124384461061463"
      ]
     },
     "execution_count": 213,
     "metadata": {},
     "output_type": "execute_result"
    }
   ],
   "source": [
    "f1_score(y_test, y_predict)"
   ]
  },
  {
   "cell_type": "code",
   "execution_count": 214,
   "metadata": {},
   "outputs": [
    {
     "name": "stdout",
     "output_type": "stream",
     "text": [
      "Test Accuracy Score %60.65\n"
     ]
    },
    {
     "data": {
      "image/png": "[encoded data removed]",
      "text/plain": [
       "<Figure size 720x504 with 2 Axes>"
      ]
     },
     "metadata": {
      "needs_background": "light"
     },
     "output_type": "display_data"
    }
   ],
   "source": [
    "#visualising the confusion matrix\n",
    "cm_df = pd.DataFrame(cm, index=(0,1), columns=(0,1))\n",
    "plt.figure(figsize = (10, 7))\n",
    "sns.set(font_scale = 1)\n",
    "sns.heatmap(cm_df, annot=True, fmt='g')\n",
    "print(\"Test Accuracy Score %{:.4}\".format((accuracy_score(y_test, y_predict)*100)))"
   ]
  },
  {
   "cell_type": "code",
   "execution_count": 215,
   "metadata": {},
   "outputs": [],
   "source": [
    "#applying k-fold cross validation\n",
    "from sklearn.model_selection import cross_val_score\n"
   ]
  },
  {
   "cell_type": "code",
   "execution_count": 218,
   "metadata": {},
   "outputs": [],
   "source": [
    "accuracies = cross_val_score(estimator=classifier,\n",
    "                            X=X_train, y=y_train, cv=10)"
   ]
  },
  {
   "cell_type": "code",
   "execution_count": 220,
   "metadata": {},
   "outputs": [
    {
     "data": {
      "text/plain": [
       "0.6448545861297539"
      ]
     },
     "execution_count": 220,
     "metadata": {},
     "output_type": "execute_result"
    }
   ],
   "source": [
    "accuracies.mean()"
   ]
  },
  {
   "cell_type": "code",
   "execution_count": 225,
   "metadata": {},
   "outputs": [
    {
     "data": {
      "text/html": [
       "<div>\n",
       "<style scoped>\n",
       "    .dataframe tbody tr th:only-of-type {\n",
       "        vertical-align: middle;\n",
       "    }\n",
       "\n",
       "    .dataframe tbody tr th {\n",
       "        vertical-align: top;\n",
       "    }\n",
       "\n",
       "    .dataframe thead th {\n",
       "        text-align: right;\n",
       "    }\n",
       "</style>\n",
       "<table border=\"1\" class=\"dataframe\">\n",
       "  <thead>\n",
       "    <tr style=\"text-align: right;\">\n",
       "      <th></th>\n",
       "      <th>features</th>\n",
       "      <th>coefficient</th>\n",
       "    </tr>\n",
       "  </thead>\n",
       "  <tbody>\n",
       "    <tr>\n",
       "      <th>0</th>\n",
       "      <td>Unnamed: 0</td>\n",
       "      <td>0.000175</td>\n",
       "    </tr>\n",
       "    <tr>\n",
       "      <th>1</th>\n",
       "      <td>age</td>\n",
       "      <td>-0.152651</td>\n",
       "    </tr>\n",
       "    <tr>\n",
       "      <th>2</th>\n",
       "      <td>deposits</td>\n",
       "      <td>0.655332</td>\n",
       "    </tr>\n",
       "    <tr>\n",
       "      <th>3</th>\n",
       "      <td>withdrawal</td>\n",
       "      <td>0.034972</td>\n",
       "    </tr>\n",
       "    <tr>\n",
       "      <th>4</th>\n",
       "      <td>purchases_partners</td>\n",
       "      <td>-0.719284</td>\n",
       "    </tr>\n",
       "    <tr>\n",
       "      <th>5</th>\n",
       "      <td>purchases</td>\n",
       "      <td>-0.777110</td>\n",
       "    </tr>\n",
       "    <tr>\n",
       "      <th>6</th>\n",
       "      <td>cc_taken</td>\n",
       "      <td>0.106300</td>\n",
       "    </tr>\n",
       "    <tr>\n",
       "      <th>7</th>\n",
       "      <td>cc_recommended</td>\n",
       "      <td>0.086814</td>\n",
       "    </tr>\n",
       "    <tr>\n",
       "      <th>8</th>\n",
       "      <td>cc_disliked</td>\n",
       "      <td>-0.040762</td>\n",
       "    </tr>\n",
       "    <tr>\n",
       "      <th>9</th>\n",
       "      <td>cc_liked</td>\n",
       "      <td>0.005327</td>\n",
       "    </tr>\n",
       "    <tr>\n",
       "      <th>10</th>\n",
       "      <td>cc_application_begin</td>\n",
       "      <td>0.028736</td>\n",
       "    </tr>\n",
       "    <tr>\n",
       "      <th>11</th>\n",
       "      <td>app_downloaded</td>\n",
       "      <td>-0.003688</td>\n",
       "    </tr>\n",
       "    <tr>\n",
       "      <th>12</th>\n",
       "      <td>web_user</td>\n",
       "      <td>0.135880</td>\n",
       "    </tr>\n",
       "    <tr>\n",
       "      <th>13</th>\n",
       "      <td>ios_user</td>\n",
       "      <td>0.066273</td>\n",
       "    </tr>\n",
       "    <tr>\n",
       "      <th>14</th>\n",
       "      <td>android_user</td>\n",
       "      <td>-0.000735</td>\n",
       "    </tr>\n",
       "    <tr>\n",
       "      <th>15</th>\n",
       "      <td>registered_phones</td>\n",
       "      <td>0.087562</td>\n",
       "    </tr>\n",
       "    <tr>\n",
       "      <th>16</th>\n",
       "      <td>waiting_4_loan</td>\n",
       "      <td>-0.038525</td>\n",
       "    </tr>\n",
       "    <tr>\n",
       "      <th>17</th>\n",
       "      <td>cancelled_loan</td>\n",
       "      <td>0.072991</td>\n",
       "    </tr>\n",
       "    <tr>\n",
       "      <th>18</th>\n",
       "      <td>received_loan</td>\n",
       "      <td>0.110954</td>\n",
       "    </tr>\n",
       "    <tr>\n",
       "      <th>19</th>\n",
       "      <td>rejected_loan</td>\n",
       "      <td>0.089407</td>\n",
       "    </tr>\n",
       "    <tr>\n",
       "      <th>20</th>\n",
       "      <td>left_for_two_month_plus</td>\n",
       "      <td>0.040890</td>\n",
       "    </tr>\n",
       "    <tr>\n",
       "      <th>21</th>\n",
       "      <td>left_for_one_month</td>\n",
       "      <td>0.055353</td>\n",
       "    </tr>\n",
       "    <tr>\n",
       "      <th>22</th>\n",
       "      <td>reward_rate</td>\n",
       "      <td>-0.234757</td>\n",
       "    </tr>\n",
       "    <tr>\n",
       "      <th>23</th>\n",
       "      <td>is_referred</td>\n",
       "      <td>0.013980</td>\n",
       "    </tr>\n",
       "    <tr>\n",
       "      <th>24</th>\n",
       "      <td>housing_O</td>\n",
       "      <td>-0.019428</td>\n",
       "    </tr>\n",
       "    <tr>\n",
       "      <th>25</th>\n",
       "      <td>housing_R</td>\n",
       "      <td>0.030415</td>\n",
       "    </tr>\n",
       "    <tr>\n",
       "      <th>26</th>\n",
       "      <td>payment_type_Bi-Weekly</td>\n",
       "      <td>-0.071096</td>\n",
       "    </tr>\n",
       "    <tr>\n",
       "      <th>27</th>\n",
       "      <td>payment_type_Monthly</td>\n",
       "      <td>-0.015515</td>\n",
       "    </tr>\n",
       "    <tr>\n",
       "      <th>28</th>\n",
       "      <td>payment_type_Semi-Monthly</td>\n",
       "      <td>-0.053838</td>\n",
       "    </tr>\n",
       "    <tr>\n",
       "      <th>29</th>\n",
       "      <td>payment_type_Weekly</td>\n",
       "      <td>0.036942</td>\n",
       "    </tr>\n",
       "    <tr>\n",
       "      <th>30</th>\n",
       "      <td>zodiac_sign_Aquarius</td>\n",
       "      <td>0.001940</td>\n",
       "    </tr>\n",
       "    <tr>\n",
       "      <th>31</th>\n",
       "      <td>zodiac_sign_Aries</td>\n",
       "      <td>0.013335</td>\n",
       "    </tr>\n",
       "    <tr>\n",
       "      <th>32</th>\n",
       "      <td>zodiac_sign_Cancer</td>\n",
       "      <td>0.012243</td>\n",
       "    </tr>\n",
       "    <tr>\n",
       "      <th>33</th>\n",
       "      <td>zodiac_sign_Capricorn</td>\n",
       "      <td>0.024059</td>\n",
       "    </tr>\n",
       "    <tr>\n",
       "      <th>34</th>\n",
       "      <td>zodiac_sign_Gemini</td>\n",
       "      <td>-0.017721</td>\n",
       "    </tr>\n",
       "    <tr>\n",
       "      <th>35</th>\n",
       "      <td>zodiac_sign_Leo</td>\n",
       "      <td>0.005110</td>\n",
       "    </tr>\n",
       "    <tr>\n",
       "      <th>36</th>\n",
       "      <td>zodiac_sign_Libra</td>\n",
       "      <td>0.004477</td>\n",
       "    </tr>\n",
       "    <tr>\n",
       "      <th>37</th>\n",
       "      <td>zodiac_sign_Pisces</td>\n",
       "      <td>0.024842</td>\n",
       "    </tr>\n",
       "    <tr>\n",
       "      <th>38</th>\n",
       "      <td>zodiac_sign_Sagittarius</td>\n",
       "      <td>0.035173</td>\n",
       "    </tr>\n",
       "    <tr>\n",
       "      <th>39</th>\n",
       "      <td>zodiac_sign_Scorpio</td>\n",
       "      <td>-0.027333</td>\n",
       "    </tr>\n",
       "    <tr>\n",
       "      <th>40</th>\n",
       "      <td>zodiac_sign_Taurus</td>\n",
       "      <td>0.001799</td>\n",
       "    </tr>\n",
       "    <tr>\n",
       "      <th>41</th>\n",
       "      <td>zodiac_sign_Virgo</td>\n",
       "      <td>0.024846</td>\n",
       "    </tr>\n",
       "  </tbody>\n",
       "</table>\n",
       "</div>"
      ],
      "text/plain": [
       "                     features  coefficient\n",
       "0                  Unnamed: 0     0.000175\n",
       "1                         age    -0.152651\n",
       "2                    deposits     0.655332\n",
       "3                  withdrawal     0.034972\n",
       "4          purchases_partners    -0.719284\n",
       "5                   purchases    -0.777110\n",
       "6                    cc_taken     0.106300\n",
       "7              cc_recommended     0.086814\n",
       "8                 cc_disliked    -0.040762\n",
       "9                    cc_liked     0.005327\n",
       "10       cc_application_begin     0.028736\n",
       "11             app_downloaded    -0.003688\n",
       "12                   web_user     0.135880\n",
       "13                   ios_user     0.066273\n",
       "14               android_user    -0.000735\n",
       "15          registered_phones     0.087562\n",
       "16             waiting_4_loan    -0.038525\n",
       "17             cancelled_loan     0.072991\n",
       "18              received_loan     0.110954\n",
       "19              rejected_loan     0.089407\n",
       "20    left_for_two_month_plus     0.040890\n",
       "21         left_for_one_month     0.055353\n",
       "22                reward_rate    -0.234757\n",
       "23                is_referred     0.013980\n",
       "24                  housing_O    -0.019428\n",
       "25                  housing_R     0.030415\n",
       "26     payment_type_Bi-Weekly    -0.071096\n",
       "27       payment_type_Monthly    -0.015515\n",
       "28  payment_type_Semi-Monthly    -0.053838\n",
       "29        payment_type_Weekly     0.036942\n",
       "30       zodiac_sign_Aquarius     0.001940\n",
       "31          zodiac_sign_Aries     0.013335\n",
       "32         zodiac_sign_Cancer     0.012243\n",
       "33      zodiac_sign_Capricorn     0.024059\n",
       "34         zodiac_sign_Gemini    -0.017721\n",
       "35            zodiac_sign_Leo     0.005110\n",
       "36          zodiac_sign_Libra     0.004477\n",
       "37         zodiac_sign_Pisces     0.024842\n",
       "38    zodiac_sign_Sagittarius     0.035173\n",
       "39        zodiac_sign_Scorpio    -0.027333\n",
       "40         zodiac_sign_Taurus     0.001799\n",
       "41          zodiac_sign_Virgo     0.024846"
      ]
     },
     "execution_count": 225,
     "metadata": {},
     "output_type": "execute_result"
    }
   ],
   "source": [
    "#analyzing coefficients\n",
    "pd.concat([pd.DataFrame(X_train.columns, columns=['features']),\n",
    "           pd.DataFrame(np.transpose(classifier.coef_), columns=['coefficient'])], axis=1)"
   ]
  },
  {
   "cell_type": "code",
   "execution_count": 226,
   "metadata": {},
   "outputs": [],
   "source": [
    "# feature selection\n",
    "from sklearn.feature_selection import RFE\n",
    "from sklearn.linear_model import LogisticRegression\n"
   ]
  },
  {
   "cell_type": "code",
   "execution_count": 227,
   "metadata": {},
   "outputs": [],
   "source": [
    "classifier = LogisticRegression()"
   ]
  },
  {
   "cell_type": "code",
   "execution_count": 228,
   "metadata": {},
   "outputs": [
    {
     "data": {
      "text/plain": [
       "(17880, 42)"
      ]
     },
     "execution_count": 228,
     "metadata": {},
     "output_type": "execute_result"
    }
   ],
   "source": [
    "X_train.shape"
   ]
  },
  {
   "cell_type": "code",
   "execution_count": 231,
   "metadata": {},
   "outputs": [],
   "source": [
    "rfe = RFE(classifier, 20)"
   ]
  },
  {
   "cell_type": "code",
   "execution_count": 232,
   "metadata": {},
   "outputs": [],
   "source": [
    "rfe = rfe.fit(X_train, y_train)"
   ]
  },
  {
   "cell_type": "code",
   "execution_count": 234,
   "metadata": {},
   "outputs": [
    {
     "name": "stdout",
     "output_type": "stream",
     "text": [
      "[False  True  True  True  True  True  True  True False False False False\n",
      "  True  True False  True False  True  True  True  True  True  True False\n",
      " False  True  True False  True  True False False False False False False\n",
      " False False False False False False]\n"
     ]
    }
   ],
   "source": [
    "#summarize the selection of attributes\n",
    "print(rfe.support_)"
   ]
  },
  {
   "cell_type": "code",
   "execution_count": 236,
   "metadata": {},
   "outputs": [
    {
     "data": {
      "text/plain": [
       "Index(['is_referred', 'age', 'age', 'age', 'age', 'age', 'age', 'age',\n",
       "       'deposits', 'waiting_4_loan', 'cc_taken', 'cancelled_loan', 'age',\n",
       "       'age', 'reward_rate', 'age', 'purchases_partners', 'age', 'age', 'age',\n",
       "       'age', 'age', 'age', 'ios_user', 'cc_disliked', 'age', 'age',\n",
       "       'web_user', 'age', 'age', 'left_for_two_month_plus', 'android_user',\n",
       "       'registered_phones', 'cc_liked', 'purchases', 'received_loan',\n",
       "       'rejected_loan', 'cc_application_begin', 'cc_recommended', 'withdrawal',\n",
       "       'left_for_one_month', 'app_downloaded'],\n",
       "      dtype='object')"
      ]
     },
     "execution_count": 236,
     "metadata": {},
     "output_type": "execute_result"
    }
   ],
   "source": [
    "X_train.columns[rfe.ranking_]"
   ]
  },
  {
   "cell_type": "code",
   "execution_count": 239,
   "metadata": {},
   "outputs": [
    {
     "data": {
      "text/plain": [
       "LogisticRegression(C=1.0, class_weight=None, dual=False, fit_intercept=True,\n",
       "                   intercept_scaling=1, l1_ratio=None, max_iter=100,\n",
       "                   multi_class='auto', n_jobs=None, penalty='l2',\n",
       "                   random_state=0, solver='lbfgs', tol=0.0001, verbose=0,\n",
       "                   warm_start=False)"
      ]
     },
     "execution_count": 239,
     "metadata": {},
     "output_type": "execute_result"
    }
   ],
   "source": [
    "classifier = LogisticRegression(random_state = 0)\n",
    "classifier.fit(X_train[X_train.columns[rfe.support_]], y_train)\n"
   ]
  },
  {
   "cell_type": "code",
   "execution_count": 243,
   "metadata": {},
   "outputs": [],
   "source": [
    "y_predict = classifier.predict(X_test[X_test.columns[rfe.support_]])"
   ]
  },
  {
   "cell_type": "code",
   "execution_count": 244,
   "metadata": {},
   "outputs": [],
   "source": [
    "cm = confusion_matrix(y_test, y_predict)"
   ]
  },
  {
   "cell_type": "code",
   "execution_count": 245,
   "metadata": {},
   "outputs": [
    {
     "data": {
      "text/plain": [
       "0.6061111111111112"
      ]
     },
     "execution_count": 245,
     "metadata": {},
     "output_type": "execute_result"
    }
   ],
   "source": [
    "accuracy_score(y_test, y_predict)"
   ]
  },
  {
   "cell_type": "code",
   "execution_count": 246,
   "metadata": {},
   "outputs": [
    {
     "data": {
      "text/plain": [
       "0.5163959546429666"
      ]
     },
     "execution_count": 246,
     "metadata": {},
     "output_type": "execute_result"
    }
   ],
   "source": [
    "precision_score(y_test, y_predict)"
   ]
  },
  {
   "cell_type": "code",
   "execution_count": 247,
   "metadata": {},
   "outputs": [
    {
     "data": {
      "text/plain": [
       "0.7542524619516562"
      ]
     },
     "execution_count": 247,
     "metadata": {},
     "output_type": "execute_result"
    }
   ],
   "source": [
    "recall_score(y_test, y_predict)"
   ]
  },
  {
   "cell_type": "code",
   "execution_count": 248,
   "metadata": {},
   "outputs": [
    {
     "data": {
      "text/plain": [
       "0.6130616700018192"
      ]
     },
     "execution_count": 248,
     "metadata": {},
     "output_type": "execute_result"
    }
   ],
   "source": [
    "f1_score(y_test, y_predict)"
   ]
  },
  {
   "cell_type": "code",
   "execution_count": 249,
   "metadata": {},
   "outputs": [
    {
     "name": "stdout",
     "output_type": "stream",
     "text": [
      "Test Accuracy Score %60.61\n"
     ]
    },
    {
     "data": {
      "image/png": "[encoded data removed]",
      "text/plain": [
       "<Figure size 720x504 with 2 Axes>"
      ]
     },
     "metadata": {},
     "output_type": "display_data"
    }
   ],
   "source": [
    "#visualising the confusion matrix\n",
    "cm_df = pd.DataFrame(cm, index=(0,1), columns=(0,1))\n",
    "plt.figure(figsize = (10, 7))\n",
    "sns.set(font_scale = 1)\n",
    "sns.heatmap(cm_df, annot=True, fmt='g')\n",
    "print(\"Test Accuracy Score %{:.4}\".format((accuracy_score(y_test, y_predict)*100)))"
   ]
  },
  {
   "cell_type": "code",
   "execution_count": 250,
   "metadata": {},
   "outputs": [
    {
     "data": {
      "text/html": [
       "<div>\n",
       "<style scoped>\n",
       "    .dataframe tbody tr th:only-of-type {\n",
       "        vertical-align: middle;\n",
       "    }\n",
       "\n",
       "    .dataframe tbody tr th {\n",
       "        vertical-align: top;\n",
       "    }\n",
       "\n",
       "    .dataframe thead th {\n",
       "        text-align: right;\n",
       "    }\n",
       "</style>\n",
       "<table border=\"1\" class=\"dataframe\">\n",
       "  <thead>\n",
       "    <tr style=\"text-align: right;\">\n",
       "      <th></th>\n",
       "      <th>features</th>\n",
       "      <th>coefficient</th>\n",
       "    </tr>\n",
       "  </thead>\n",
       "  <tbody>\n",
       "    <tr>\n",
       "      <th>0</th>\n",
       "      <td>age</td>\n",
       "      <td>-0.153467</td>\n",
       "    </tr>\n",
       "    <tr>\n",
       "      <th>1</th>\n",
       "      <td>deposits</td>\n",
       "      <td>0.652091</td>\n",
       "    </tr>\n",
       "    <tr>\n",
       "      <th>2</th>\n",
       "      <td>withdrawal</td>\n",
       "      <td>0.039099</td>\n",
       "    </tr>\n",
       "    <tr>\n",
       "      <th>3</th>\n",
       "      <td>purchases_partners</td>\n",
       "      <td>-0.714055</td>\n",
       "    </tr>\n",
       "    <tr>\n",
       "      <th>4</th>\n",
       "      <td>purchases</td>\n",
       "      <td>-0.766942</td>\n",
       "    </tr>\n",
       "    <tr>\n",
       "      <th>5</th>\n",
       "      <td>cc_taken</td>\n",
       "      <td>0.102688</td>\n",
       "    </tr>\n",
       "    <tr>\n",
       "      <th>6</th>\n",
       "      <td>cc_recommended</td>\n",
       "      <td>0.100219</td>\n",
       "    </tr>\n",
       "    <tr>\n",
       "      <th>7</th>\n",
       "      <td>web_user</td>\n",
       "      <td>0.137361</td>\n",
       "    </tr>\n",
       "    <tr>\n",
       "      <th>8</th>\n",
       "      <td>ios_user</td>\n",
       "      <td>0.069399</td>\n",
       "    </tr>\n",
       "    <tr>\n",
       "      <th>9</th>\n",
       "      <td>registered_phones</td>\n",
       "      <td>0.087425</td>\n",
       "    </tr>\n",
       "    <tr>\n",
       "      <th>10</th>\n",
       "      <td>cancelled_loan</td>\n",
       "      <td>0.072534</td>\n",
       "    </tr>\n",
       "    <tr>\n",
       "      <th>11</th>\n",
       "      <td>received_loan</td>\n",
       "      <td>0.109255</td>\n",
       "    </tr>\n",
       "    <tr>\n",
       "      <th>12</th>\n",
       "      <td>rejected_loan</td>\n",
       "      <td>0.088772</td>\n",
       "    </tr>\n",
       "    <tr>\n",
       "      <th>13</th>\n",
       "      <td>left_for_two_month_plus</td>\n",
       "      <td>0.040159</td>\n",
       "    </tr>\n",
       "    <tr>\n",
       "      <th>14</th>\n",
       "      <td>left_for_one_month</td>\n",
       "      <td>0.051181</td>\n",
       "    </tr>\n",
       "    <tr>\n",
       "      <th>15</th>\n",
       "      <td>reward_rate</td>\n",
       "      <td>-0.240504</td>\n",
       "    </tr>\n",
       "    <tr>\n",
       "      <th>16</th>\n",
       "      <td>housing_R</td>\n",
       "      <td>0.038750</td>\n",
       "    </tr>\n",
       "    <tr>\n",
       "      <th>17</th>\n",
       "      <td>payment_type_Bi-Weekly</td>\n",
       "      <td>-0.057861</td>\n",
       "    </tr>\n",
       "    <tr>\n",
       "      <th>18</th>\n",
       "      <td>payment_type_Semi-Monthly</td>\n",
       "      <td>-0.047241</td>\n",
       "    </tr>\n",
       "    <tr>\n",
       "      <th>19</th>\n",
       "      <td>payment_type_Weekly</td>\n",
       "      <td>0.047875</td>\n",
       "    </tr>\n",
       "  </tbody>\n",
       "</table>\n",
       "</div>"
      ],
      "text/plain": [
       "                     features  coefficient\n",
       "0                         age    -0.153467\n",
       "1                    deposits     0.652091\n",
       "2                  withdrawal     0.039099\n",
       "3          purchases_partners    -0.714055\n",
       "4                   purchases    -0.766942\n",
       "5                    cc_taken     0.102688\n",
       "6              cc_recommended     0.100219\n",
       "7                    web_user     0.137361\n",
       "8                    ios_user     0.069399\n",
       "9           registered_phones     0.087425\n",
       "10             cancelled_loan     0.072534\n",
       "11              received_loan     0.109255\n",
       "12              rejected_loan     0.088772\n",
       "13    left_for_two_month_plus     0.040159\n",
       "14         left_for_one_month     0.051181\n",
       "15                reward_rate    -0.240504\n",
       "16                  housing_R     0.038750\n",
       "17     payment_type_Bi-Weekly    -0.057861\n",
       "18  payment_type_Semi-Monthly    -0.047241\n",
       "19        payment_type_Weekly     0.047875"
      ]
     },
     "execution_count": 250,
     "metadata": {},
     "output_type": "execute_result"
    }
   ],
   "source": [
    "#Analyszing coefficients\n",
    "pd.concat([pd.DataFrame(X_train.columns[rfe.support_], columns=['features']),\n",
    "           pd.DataFrame(np.transpose(classifier.coef_), columns=['coefficient'])], axis=1)"
   ]
  },
  {
   "cell_type": "code",
   "execution_count": 251,
   "metadata": {},
   "outputs": [],
   "source": [
    "#Formatting final results\n",
    "final_results = pd.concat([y_test, user_id], axis=1).dropna()\n"
   ]
  },
  {
   "cell_type": "code",
   "execution_count": 252,
   "metadata": {},
   "outputs": [],
   "source": [
    "final_results['predicted_churn'] = y_predict"
   ]
  },
  {
   "cell_type": "code",
   "execution_count": 257,
   "metadata": {},
   "outputs": [
    {
     "ename": "TypeError",
     "evalue": "'method' object is not subscriptable",
     "output_type": "error",
     "traceback": [
      "\u001b[1;31m---------------------------------------------------------------------------\u001b[0m",
      "\u001b[1;31mTypeError\u001b[0m                                 Traceback (most recent call last)",
      "\u001b[1;32m<ipython-input-257-c7be3bf95d48>\u001b[0m in \u001b[0;36m<module>\u001b[1;34m\u001b[0m\n\u001b[1;32m----> 1\u001b[1;33m \u001b[0mfinal_results\u001b[0m \u001b[1;33m=\u001b[0m \u001b[0mfinal_results\u001b[0m\u001b[1;33m[\u001b[0m\u001b[1;33m[\u001b[0m\u001b[1;34m'user'\u001b[0m\u001b[1;33m,\u001b[0m \u001b[1;34m'churn'\u001b[0m\u001b[1;33m,\u001b[0m \u001b[1;34m'predicted_churn'\u001b[0m\u001b[1;33m]\u001b[0m\u001b[1;33m]\u001b[0m\u001b[1;33m.\u001b[0m\u001b[0mreset_index\u001b[0m\u001b[1;33m\u001b[0m\u001b[1;33m\u001b[0m\u001b[0m\n\u001b[0m",
      "\u001b[1;31mTypeError\u001b[0m: 'method' object is not subscriptable"
     ]
    }
   ],
   "source": [
    "final_results = final_results[['user', 'churn', 'predicted_churn']].reset_index"
   ]
  },
  {
   "cell_type": "code",
   "execution_count": 255,
   "metadata": {},
   "outputs": [
    {
     "data": {
      "text/plain": [
       "<bound method DataFrame.reset_index of         user  churn  predicted_churn\n",
       "4      61353    1.0                1\n",
       "7      67679    0.0                0\n",
       "8      21269    0.0                0\n",
       "18     69531    0.0                1\n",
       "22     25997    0.0                0\n",
       "...      ...    ...              ...\n",
       "26982  22377    0.0                1\n",
       "26991  24291    1.0                1\n",
       "26993  23740    0.0                1\n",
       "26994  47663    1.0                0\n",
       "26995  52752    1.0                1\n",
       "\n",
       "[5400 rows x 3 columns]>"
      ]
     },
     "execution_count": 255,
     "metadata": {},
     "output_type": "execute_result"
    }
   ],
   "source": [
    "final_results"
   ]
  },
  {
   "cell_type": "code",
   "execution_count": 258,
   "metadata": {},
   "outputs": [
    {
     "data": {
      "text/plain": [
       "0.6064814814814815"
      ]
     },
     "execution_count": 258,
     "metadata": {},
     "output_type": "execute_result"
    }
   ],
   "source": [
    "accuracy"
   ]
  },
  {
   "cell_type": "code",
   "execution_count": null,
   "metadata": {},
   "outputs": [],
   "source": []
  }
 ],
 "metadata": {
  "kernelspec": {
   "display_name": "Python 3",
   "language": "python",
   "name": "python3"
  },
  "language_info": {
   "codemirror_mode": {
    "name": "ipython",
    "version": 3
   },
   "file_extension": ".py",
   "mimetype": "text/x-python",
   "name": "python",
   "nbconvert_exporter": "python",
   "pygments_lexer": "ipython3",
   "version": "3.7.6"
  }
 },
 "nbformat": 4,
 "nbformat_minor": 4
}
